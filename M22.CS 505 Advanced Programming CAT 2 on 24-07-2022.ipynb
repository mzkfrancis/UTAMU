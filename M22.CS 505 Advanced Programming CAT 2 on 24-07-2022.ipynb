{
 "cells": [
  {
   "cell_type": "markdown",
   "id": "ea6b7c9c",
   "metadata": {},
   "source": [
    "M22.CS 505 Advanced Programming CAT 2 on 24-07-2022 from 8:00am - 11:00am"
   ]
  },
  {
   "cell_type": "markdown",
   "id": "fd658f40",
   "metadata": {},
   "source": [
    " Amizuku Fancis"
   ]
  },
  {
   "cell_type": "code",
   "execution_count": 1,
   "id": "920a736b",
   "metadata": {},
   "outputs": [],
   "source": [
    "import numpy as np\n",
    "import pandas as pd"
   ]
  },
  {
   "cell_type": "code",
   "execution_count": 16,
   "id": "371b95c8",
   "metadata": {},
   "outputs": [
    {
     "data": {
      "text/html": [
       "<div>\n",
       "<style scoped>\n",
       "    .dataframe tbody tr th:only-of-type {\n",
       "        vertical-align: middle;\n",
       "    }\n",
       "\n",
       "    .dataframe tbody tr th {\n",
       "        vertical-align: top;\n",
       "    }\n",
       "\n",
       "    .dataframe thead th {\n",
       "        text-align: right;\n",
       "    }\n",
       "</style>\n",
       "<table border=\"1\" class=\"dataframe\">\n",
       "  <thead>\n",
       "    <tr style=\"text-align: right;\">\n",
       "      <th></th>\n",
       "      <th>Unnamed: 0.1</th>\n",
       "      <th>Unnamed: 0</th>\n",
       "      <th>loan_status</th>\n",
       "      <th>Principal</th>\n",
       "      <th>terms</th>\n",
       "      <th>effective_date</th>\n",
       "      <th>due_date</th>\n",
       "      <th>age</th>\n",
       "      <th>education</th>\n",
       "      <th>Gender</th>\n",
       "    </tr>\n",
       "  </thead>\n",
       "  <tbody>\n",
       "    <tr>\n",
       "      <th>0</th>\n",
       "      <td>0</td>\n",
       "      <td>0</td>\n",
       "      <td>PAIDOFF</td>\n",
       "      <td>1000</td>\n",
       "      <td>30</td>\n",
       "      <td>9/8/2016</td>\n",
       "      <td>10/7/2016</td>\n",
       "      <td>45</td>\n",
       "      <td>High School or Below</td>\n",
       "      <td>male</td>\n",
       "    </tr>\n",
       "    <tr>\n",
       "      <th>1</th>\n",
       "      <td>2</td>\n",
       "      <td>2</td>\n",
       "      <td>PAIDOFF</td>\n",
       "      <td>1000</td>\n",
       "      <td>30</td>\n",
       "      <td>9/8/2016</td>\n",
       "      <td>10/7/2016</td>\n",
       "      <td>33</td>\n",
       "      <td>Bechalor</td>\n",
       "      <td>female</td>\n",
       "    </tr>\n",
       "    <tr>\n",
       "      <th>2</th>\n",
       "      <td>3</td>\n",
       "      <td>3</td>\n",
       "      <td>PAIDOFF</td>\n",
       "      <td>1000</td>\n",
       "      <td>15</td>\n",
       "      <td>9/8/2016</td>\n",
       "      <td>9/22/2016</td>\n",
       "      <td>27</td>\n",
       "      <td>college</td>\n",
       "      <td>male</td>\n",
       "    </tr>\n",
       "    <tr>\n",
       "      <th>3</th>\n",
       "      <td>4</td>\n",
       "      <td>4</td>\n",
       "      <td>PAIDOFF</td>\n",
       "      <td>1000</td>\n",
       "      <td>30</td>\n",
       "      <td>9/9/2016</td>\n",
       "      <td>10/8/2016</td>\n",
       "      <td>28</td>\n",
       "      <td>college</td>\n",
       "      <td>female</td>\n",
       "    </tr>\n",
       "    <tr>\n",
       "      <th>4</th>\n",
       "      <td>6</td>\n",
       "      <td>6</td>\n",
       "      <td>PAIDOFF</td>\n",
       "      <td>1000</td>\n",
       "      <td>30</td>\n",
       "      <td>9/9/2016</td>\n",
       "      <td>10/8/2016</td>\n",
       "      <td>29</td>\n",
       "      <td>college</td>\n",
       "      <td>male</td>\n",
       "    </tr>\n",
       "  </tbody>\n",
       "</table>\n",
       "</div>"
      ],
      "text/plain": [
       "   Unnamed: 0.1  Unnamed: 0 loan_status  Principal  terms effective_date  \\\n",
       "0             0           0     PAIDOFF       1000     30       9/8/2016   \n",
       "1             2           2     PAIDOFF       1000     30       9/8/2016   \n",
       "2             3           3     PAIDOFF       1000     15       9/8/2016   \n",
       "3             4           4     PAIDOFF       1000     30       9/9/2016   \n",
       "4             6           6     PAIDOFF       1000     30       9/9/2016   \n",
       "\n",
       "    due_date  age             education  Gender  \n",
       "0  10/7/2016   45  High School or Below    male  \n",
       "1  10/7/2016   33              Bechalor  female  \n",
       "2  9/22/2016   27               college    male  \n",
       "3  10/8/2016   28               college  female  \n",
       "4  10/8/2016   29               college    male  "
      ]
     },
     "execution_count": 16,
     "metadata": {},
     "output_type": "execute_result"
    }
   ],
   "source": [
    "df =pd.read_csv(\"Loan_train.csv\")\n",
    "df.head()"
   ]
  },
  {
   "cell_type": "markdown",
   "id": "75935ad9",
   "metadata": {},
   "source": [
    " Clean the Data"
   ]
  },
  {
   "cell_type": "code",
   "execution_count": 17,
   "id": "fd1496cb",
   "metadata": {},
   "outputs": [],
   "source": [
    "df.drop(\"Unnamed: 0.1\",axis=1, inplace=True)"
   ]
  },
  {
   "cell_type": "code",
   "execution_count": 18,
   "id": "0ab949e7",
   "metadata": {},
   "outputs": [
    {
     "data": {
      "text/html": [
       "<div>\n",
       "<style scoped>\n",
       "    .dataframe tbody tr th:only-of-type {\n",
       "        vertical-align: middle;\n",
       "    }\n",
       "\n",
       "    .dataframe tbody tr th {\n",
       "        vertical-align: top;\n",
       "    }\n",
       "\n",
       "    .dataframe thead th {\n",
       "        text-align: right;\n",
       "    }\n",
       "</style>\n",
       "<table border=\"1\" class=\"dataframe\">\n",
       "  <thead>\n",
       "    <tr style=\"text-align: right;\">\n",
       "      <th></th>\n",
       "      <th>Unnamed: 0</th>\n",
       "      <th>loan_status</th>\n",
       "      <th>Principal</th>\n",
       "      <th>terms</th>\n",
       "      <th>effective_date</th>\n",
       "      <th>due_date</th>\n",
       "      <th>age</th>\n",
       "      <th>education</th>\n",
       "      <th>Gender</th>\n",
       "    </tr>\n",
       "  </thead>\n",
       "  <tbody>\n",
       "    <tr>\n",
       "      <th>0</th>\n",
       "      <td>0</td>\n",
       "      <td>PAIDOFF</td>\n",
       "      <td>1000</td>\n",
       "      <td>30</td>\n",
       "      <td>9/8/2016</td>\n",
       "      <td>10/7/2016</td>\n",
       "      <td>45</td>\n",
       "      <td>High School or Below</td>\n",
       "      <td>male</td>\n",
       "    </tr>\n",
       "    <tr>\n",
       "      <th>1</th>\n",
       "      <td>2</td>\n",
       "      <td>PAIDOFF</td>\n",
       "      <td>1000</td>\n",
       "      <td>30</td>\n",
       "      <td>9/8/2016</td>\n",
       "      <td>10/7/2016</td>\n",
       "      <td>33</td>\n",
       "      <td>Bechalor</td>\n",
       "      <td>female</td>\n",
       "    </tr>\n",
       "    <tr>\n",
       "      <th>2</th>\n",
       "      <td>3</td>\n",
       "      <td>PAIDOFF</td>\n",
       "      <td>1000</td>\n",
       "      <td>15</td>\n",
       "      <td>9/8/2016</td>\n",
       "      <td>9/22/2016</td>\n",
       "      <td>27</td>\n",
       "      <td>college</td>\n",
       "      <td>male</td>\n",
       "    </tr>\n",
       "    <tr>\n",
       "      <th>3</th>\n",
       "      <td>4</td>\n",
       "      <td>PAIDOFF</td>\n",
       "      <td>1000</td>\n",
       "      <td>30</td>\n",
       "      <td>9/9/2016</td>\n",
       "      <td>10/8/2016</td>\n",
       "      <td>28</td>\n",
       "      <td>college</td>\n",
       "      <td>female</td>\n",
       "    </tr>\n",
       "    <tr>\n",
       "      <th>4</th>\n",
       "      <td>6</td>\n",
       "      <td>PAIDOFF</td>\n",
       "      <td>1000</td>\n",
       "      <td>30</td>\n",
       "      <td>9/9/2016</td>\n",
       "      <td>10/8/2016</td>\n",
       "      <td>29</td>\n",
       "      <td>college</td>\n",
       "      <td>male</td>\n",
       "    </tr>\n",
       "  </tbody>\n",
       "</table>\n",
       "</div>"
      ],
      "text/plain": [
       "   Unnamed: 0 loan_status  Principal  terms effective_date   due_date  age  \\\n",
       "0           0     PAIDOFF       1000     30       9/8/2016  10/7/2016   45   \n",
       "1           2     PAIDOFF       1000     30       9/8/2016  10/7/2016   33   \n",
       "2           3     PAIDOFF       1000     15       9/8/2016  9/22/2016   27   \n",
       "3           4     PAIDOFF       1000     30       9/9/2016  10/8/2016   28   \n",
       "4           6     PAIDOFF       1000     30       9/9/2016  10/8/2016   29   \n",
       "\n",
       "              education  Gender  \n",
       "0  High School or Below    male  \n",
       "1              Bechalor  female  \n",
       "2               college    male  \n",
       "3               college  female  \n",
       "4               college    male  "
      ]
     },
     "execution_count": 18,
     "metadata": {},
     "output_type": "execute_result"
    }
   ],
   "source": [
    "df.head()"
   ]
  },
  {
   "cell_type": "code",
   "execution_count": 19,
   "id": "379469d2",
   "metadata": {},
   "outputs": [],
   "source": [
    "df.drop(\"Unnamed: 0\",axis=1, inplace=True)"
   ]
  },
  {
   "cell_type": "code",
   "execution_count": 22,
   "id": "e5ae4fb9",
   "metadata": {},
   "outputs": [
    {
     "data": {
      "text/html": [
       "<div>\n",
       "<style scoped>\n",
       "    .dataframe tbody tr th:only-of-type {\n",
       "        vertical-align: middle;\n",
       "    }\n",
       "\n",
       "    .dataframe tbody tr th {\n",
       "        vertical-align: top;\n",
       "    }\n",
       "\n",
       "    .dataframe thead th {\n",
       "        text-align: right;\n",
       "    }\n",
       "</style>\n",
       "<table border=\"1\" class=\"dataframe\">\n",
       "  <thead>\n",
       "    <tr style=\"text-align: right;\">\n",
       "      <th></th>\n",
       "      <th>loan_status</th>\n",
       "      <th>Principal</th>\n",
       "      <th>terms</th>\n",
       "      <th>effective_date</th>\n",
       "      <th>due_date</th>\n",
       "      <th>age</th>\n",
       "      <th>education</th>\n",
       "      <th>Gender</th>\n",
       "    </tr>\n",
       "  </thead>\n",
       "  <tbody>\n",
       "    <tr>\n",
       "      <th>0</th>\n",
       "      <td>PAIDOFF</td>\n",
       "      <td>1000</td>\n",
       "      <td>30</td>\n",
       "      <td>9/8/2016</td>\n",
       "      <td>10/7/2016</td>\n",
       "      <td>45</td>\n",
       "      <td>High School or Below</td>\n",
       "      <td>male</td>\n",
       "    </tr>\n",
       "    <tr>\n",
       "      <th>1</th>\n",
       "      <td>PAIDOFF</td>\n",
       "      <td>1000</td>\n",
       "      <td>30</td>\n",
       "      <td>9/8/2016</td>\n",
       "      <td>10/7/2016</td>\n",
       "      <td>33</td>\n",
       "      <td>Bechalor</td>\n",
       "      <td>female</td>\n",
       "    </tr>\n",
       "    <tr>\n",
       "      <th>2</th>\n",
       "      <td>PAIDOFF</td>\n",
       "      <td>1000</td>\n",
       "      <td>15</td>\n",
       "      <td>9/8/2016</td>\n",
       "      <td>9/22/2016</td>\n",
       "      <td>27</td>\n",
       "      <td>college</td>\n",
       "      <td>male</td>\n",
       "    </tr>\n",
       "    <tr>\n",
       "      <th>3</th>\n",
       "      <td>PAIDOFF</td>\n",
       "      <td>1000</td>\n",
       "      <td>30</td>\n",
       "      <td>9/9/2016</td>\n",
       "      <td>10/8/2016</td>\n",
       "      <td>28</td>\n",
       "      <td>college</td>\n",
       "      <td>female</td>\n",
       "    </tr>\n",
       "    <tr>\n",
       "      <th>4</th>\n",
       "      <td>PAIDOFF</td>\n",
       "      <td>1000</td>\n",
       "      <td>30</td>\n",
       "      <td>9/9/2016</td>\n",
       "      <td>10/8/2016</td>\n",
       "      <td>29</td>\n",
       "      <td>college</td>\n",
       "      <td>male</td>\n",
       "    </tr>\n",
       "    <tr>\n",
       "      <th>5</th>\n",
       "      <td>PAIDOFF</td>\n",
       "      <td>1000</td>\n",
       "      <td>30</td>\n",
       "      <td>9/9/2016</td>\n",
       "      <td>10/8/2016</td>\n",
       "      <td>36</td>\n",
       "      <td>college</td>\n",
       "      <td>male</td>\n",
       "    </tr>\n",
       "    <tr>\n",
       "      <th>6</th>\n",
       "      <td>PAIDOFF</td>\n",
       "      <td>1000</td>\n",
       "      <td>30</td>\n",
       "      <td>9/9/2016</td>\n",
       "      <td>10/8/2016</td>\n",
       "      <td>28</td>\n",
       "      <td>college</td>\n",
       "      <td>male</td>\n",
       "    </tr>\n",
       "    <tr>\n",
       "      <th>7</th>\n",
       "      <td>PAIDOFF</td>\n",
       "      <td>800</td>\n",
       "      <td>15</td>\n",
       "      <td>9/10/2016</td>\n",
       "      <td>9/24/2016</td>\n",
       "      <td>26</td>\n",
       "      <td>college</td>\n",
       "      <td>male</td>\n",
       "    </tr>\n",
       "    <tr>\n",
       "      <th>8</th>\n",
       "      <td>PAIDOFF</td>\n",
       "      <td>300</td>\n",
       "      <td>7</td>\n",
       "      <td>9/10/2016</td>\n",
       "      <td>9/16/2016</td>\n",
       "      <td>29</td>\n",
       "      <td>college</td>\n",
       "      <td>male</td>\n",
       "    </tr>\n",
       "    <tr>\n",
       "      <th>9</th>\n",
       "      <td>PAIDOFF</td>\n",
       "      <td>1000</td>\n",
       "      <td>15</td>\n",
       "      <td>9/10/2016</td>\n",
       "      <td>10/9/2016</td>\n",
       "      <td>39</td>\n",
       "      <td>High School or Below</td>\n",
       "      <td>male</td>\n",
       "    </tr>\n",
       "    <tr>\n",
       "      <th>10</th>\n",
       "      <td>PAIDOFF</td>\n",
       "      <td>1000</td>\n",
       "      <td>30</td>\n",
       "      <td>9/10/2016</td>\n",
       "      <td>10/9/2016</td>\n",
       "      <td>26</td>\n",
       "      <td>college</td>\n",
       "      <td>male</td>\n",
       "    </tr>\n",
       "    <tr>\n",
       "      <th>11</th>\n",
       "      <td>PAIDOFF</td>\n",
       "      <td>900</td>\n",
       "      <td>7</td>\n",
       "      <td>9/10/2016</td>\n",
       "      <td>9/16/2016</td>\n",
       "      <td>26</td>\n",
       "      <td>college</td>\n",
       "      <td>female</td>\n",
       "    </tr>\n",
       "    <tr>\n",
       "      <th>12</th>\n",
       "      <td>PAIDOFF</td>\n",
       "      <td>1000</td>\n",
       "      <td>7</td>\n",
       "      <td>9/10/2016</td>\n",
       "      <td>9/16/2016</td>\n",
       "      <td>27</td>\n",
       "      <td>High School or Below</td>\n",
       "      <td>male</td>\n",
       "    </tr>\n",
       "    <tr>\n",
       "      <th>13</th>\n",
       "      <td>PAIDOFF</td>\n",
       "      <td>800</td>\n",
       "      <td>15</td>\n",
       "      <td>9/10/2016</td>\n",
       "      <td>9/24/2016</td>\n",
       "      <td>26</td>\n",
       "      <td>college</td>\n",
       "      <td>male</td>\n",
       "    </tr>\n",
       "    <tr>\n",
       "      <th>14</th>\n",
       "      <td>PAIDOFF</td>\n",
       "      <td>1000</td>\n",
       "      <td>30</td>\n",
       "      <td>9/10/2016</td>\n",
       "      <td>10/9/2016</td>\n",
       "      <td>40</td>\n",
       "      <td>High School or Below</td>\n",
       "      <td>male</td>\n",
       "    </tr>\n",
       "  </tbody>\n",
       "</table>\n",
       "</div>"
      ],
      "text/plain": [
       "   loan_status  Principal  terms effective_date   due_date  age  \\\n",
       "0      PAIDOFF       1000     30       9/8/2016  10/7/2016   45   \n",
       "1      PAIDOFF       1000     30       9/8/2016  10/7/2016   33   \n",
       "2      PAIDOFF       1000     15       9/8/2016  9/22/2016   27   \n",
       "3      PAIDOFF       1000     30       9/9/2016  10/8/2016   28   \n",
       "4      PAIDOFF       1000     30       9/9/2016  10/8/2016   29   \n",
       "5      PAIDOFF       1000     30       9/9/2016  10/8/2016   36   \n",
       "6      PAIDOFF       1000     30       9/9/2016  10/8/2016   28   \n",
       "7      PAIDOFF        800     15      9/10/2016  9/24/2016   26   \n",
       "8      PAIDOFF        300      7      9/10/2016  9/16/2016   29   \n",
       "9      PAIDOFF       1000     15      9/10/2016  10/9/2016   39   \n",
       "10     PAIDOFF       1000     30      9/10/2016  10/9/2016   26   \n",
       "11     PAIDOFF        900      7      9/10/2016  9/16/2016   26   \n",
       "12     PAIDOFF       1000      7      9/10/2016  9/16/2016   27   \n",
       "13     PAIDOFF        800     15      9/10/2016  9/24/2016   26   \n",
       "14     PAIDOFF       1000     30      9/10/2016  10/9/2016   40   \n",
       "\n",
       "               education  Gender  \n",
       "0   High School or Below    male  \n",
       "1               Bechalor  female  \n",
       "2                college    male  \n",
       "3                college  female  \n",
       "4                college    male  \n",
       "5                college    male  \n",
       "6                college    male  \n",
       "7                college    male  \n",
       "8                college    male  \n",
       "9   High School or Below    male  \n",
       "10               college    male  \n",
       "11               college  female  \n",
       "12  High School or Below    male  \n",
       "13               college    male  \n",
       "14  High School or Below    male  "
      ]
     },
     "execution_count": 22,
     "metadata": {},
     "output_type": "execute_result"
    }
   ],
   "source": [
    "df.head(15)"
   ]
  },
  {
   "cell_type": "code",
   "execution_count": 21,
   "id": "8bce3a48",
   "metadata": {},
   "outputs": [
    {
     "data": {
      "text/plain": [
       "(346, 8)"
      ]
     },
     "execution_count": 21,
     "metadata": {},
     "output_type": "execute_result"
    }
   ],
   "source": [
    "df.shape"
   ]
  },
  {
   "cell_type": "markdown",
   "id": "e27fa226",
   "metadata": {},
   "source": [
    "Visualize the Data."
   ]
  },
  {
   "cell_type": "code",
   "execution_count": 24,
   "id": "2d6eadeb",
   "metadata": {},
   "outputs": [
    {
     "data": {
      "text/html": [
       "<div>\n",
       "<style scoped>\n",
       "    .dataframe tbody tr th:only-of-type {\n",
       "        vertical-align: middle;\n",
       "    }\n",
       "\n",
       "    .dataframe tbody tr th {\n",
       "        vertical-align: top;\n",
       "    }\n",
       "\n",
       "    .dataframe thead th {\n",
       "        text-align: right;\n",
       "    }\n",
       "</style>\n",
       "<table border=\"1\" class=\"dataframe\">\n",
       "  <thead>\n",
       "    <tr style=\"text-align: right;\">\n",
       "      <th></th>\n",
       "      <th>Principal</th>\n",
       "      <th>terms</th>\n",
       "      <th>age</th>\n",
       "    </tr>\n",
       "  </thead>\n",
       "  <tbody>\n",
       "    <tr>\n",
       "      <th>count</th>\n",
       "      <td>346.000000</td>\n",
       "      <td>346.000000</td>\n",
       "      <td>346.000000</td>\n",
       "    </tr>\n",
       "    <tr>\n",
       "      <th>mean</th>\n",
       "      <td>943.641618</td>\n",
       "      <td>22.653179</td>\n",
       "      <td>30.939306</td>\n",
       "    </tr>\n",
       "    <tr>\n",
       "      <th>std</th>\n",
       "      <td>109.425530</td>\n",
       "      <td>7.991006</td>\n",
       "      <td>6.039418</td>\n",
       "    </tr>\n",
       "    <tr>\n",
       "      <th>min</th>\n",
       "      <td>300.000000</td>\n",
       "      <td>7.000000</td>\n",
       "      <td>18.000000</td>\n",
       "    </tr>\n",
       "    <tr>\n",
       "      <th>25%</th>\n",
       "      <td>900.000000</td>\n",
       "      <td>15.000000</td>\n",
       "      <td>27.000000</td>\n",
       "    </tr>\n",
       "    <tr>\n",
       "      <th>50%</th>\n",
       "      <td>1000.000000</td>\n",
       "      <td>30.000000</td>\n",
       "      <td>30.000000</td>\n",
       "    </tr>\n",
       "    <tr>\n",
       "      <th>75%</th>\n",
       "      <td>1000.000000</td>\n",
       "      <td>30.000000</td>\n",
       "      <td>35.000000</td>\n",
       "    </tr>\n",
       "    <tr>\n",
       "      <th>max</th>\n",
       "      <td>1000.000000</td>\n",
       "      <td>30.000000</td>\n",
       "      <td>51.000000</td>\n",
       "    </tr>\n",
       "  </tbody>\n",
       "</table>\n",
       "</div>"
      ],
      "text/plain": [
       "         Principal       terms         age\n",
       "count   346.000000  346.000000  346.000000\n",
       "mean    943.641618   22.653179   30.939306\n",
       "std     109.425530    7.991006    6.039418\n",
       "min     300.000000    7.000000   18.000000\n",
       "25%     900.000000   15.000000   27.000000\n",
       "50%    1000.000000   30.000000   30.000000\n",
       "75%    1000.000000   30.000000   35.000000\n",
       "max    1000.000000   30.000000   51.000000"
      ]
     },
     "execution_count": 24,
     "metadata": {},
     "output_type": "execute_result"
    }
   ],
   "source": [
    "df.describe()"
   ]
  },
  {
   "cell_type": "code",
   "execution_count": 25,
   "id": "3a46edcf",
   "metadata": {},
   "outputs": [],
   "source": [
    "%matplotlib inline\n",
    "import matplotlib.pyplot as plt\n",
    "from mpl_toolkits.mplot3d import Axes3D\n",
    "from ipywidgets import interact"
   ]
  },
  {
   "cell_type": "code",
   "execution_count": 26,
   "id": "1c619dbe",
   "metadata": {},
   "outputs": [],
   "source": [
    "def scatter_view(x, y, z, azim, elev):\n",
    "    fig = plt.figure(figsize=(8, 8))\n",
    "    ax = Axes3D(fig)\n",
    "    ax.scatter(x, y, z)\n",
    "    ax.set_xlabel('Principal)', fontsize=16)\n",
    "    ax.set_ylabel('terms)', fontsize=16)\n",
    "    ax.set_zlabel('age)', fontsize=16)\n",
    "    ax.azim = azim\n",
    "    ax.elev = elev"
   ]
  },
  {
   "cell_type": "code",
   "execution_count": 28,
   "id": "cb78c5af",
   "metadata": {},
   "outputs": [
    {
     "data": {
      "application/vnd.jupyter.widget-view+json": {
       "model_id": "8e5fa2399ef1457693849ab628158abb",
       "version_major": 2,
       "version_minor": 0
      },
      "text/plain": [
       "interactive(children=(IntSlider(value=45, description='azim', max=90), IntSlider(value=45, description='elev',…"
      ]
     },
     "metadata": {},
     "output_type": "display_data"
    }
   ],
   "source": [
    "xi = df['Principal']\n",
    "yi = df['terms']\n",
    "zi = df['age']\n",
    "interact(lambda azim, elev: scatter_view(xi, yi, zi, azim, elev),\n",
    "         azim=(0, 90), elev=(0, 90))\n",
    "plt.show()"
   ]
  },
  {
   "cell_type": "markdown",
   "id": "6d1479bb",
   "metadata": {},
   "source": [
    "By using Euclidean Anomaly Detection"
   ]
  },
  {
   "cell_type": "markdown",
   "id": "ba78d744",
   "metadata": {},
   "source": [
    "Calculate the means."
   ]
  },
  {
   "cell_type": "code",
   "execution_count": 29,
   "id": "66ad23b7",
   "metadata": {},
   "outputs": [
    {
     "name": "stderr",
     "output_type": "stream",
     "text": [
      "",
      "  "
     ]
    }
   ],
   "source": [
    "# Code Cell 7\n",
    "mu = df.mean()"
   ]
  },
  {
   "cell_type": "markdown",
   "id": "0b61f6d4",
   "metadata": {},
   "source": [
    " Lets Calculate the Euclidean distance."
   ]
  },
  {
   "cell_type": "code",
   "execution_count": 30,
   "id": "e1d1ebeb",
   "metadata": {},
   "outputs": [],
   "source": [
    "euclid_sq = np.square(df - mu).sum(axis=1)\n",
    "euclid = np.sqrt(euclid_sq)"
   ]
  },
  {
   "cell_type": "markdown",
   "id": "89b2add2",
   "metadata": {},
   "source": [
    " Lets Create a histogram from the data."
   ]
  },
  {
   "cell_type": "code",
   "execution_count": 31,
   "id": "e404f2a2",
   "metadata": {},
   "outputs": [
    {
     "data": {
      "image/png": "[encoded data removed]",
      "text/plain": [
       "<Figure size 504x504 with 1 Axes>"
      ]
     },
     "metadata": {
      "needs_background": "light"
     },
     "output_type": "display_data"
    }
   ],
   "source": [
    "fig = plt.figure(figsize=(7, 7))\n",
    "plt.hist(euclid, 25)\n",
    "\n",
    "plt.xlabel('Euclidean distance', fontsize=16)\n",
    "plt.ylabel('Relative frequency', fontsize=16)\n",
    "plt.show()"
   ]
  },
  {
   "cell_type": "markdown",
   "id": "72e9b3a9",
   "metadata": {},
   "source": [
    "Lets Compute the normalized distance."
   ]
  },
  {
   "cell_type": "code",
   "execution_count": 32,
   "id": "b53e0091",
   "metadata": {},
   "outputs": [],
   "source": [
    "max_euclid = euclid.max()\n",
    "nmd_euclid = [float(x)/max_euclid for x in euclid]"
   ]
  },
  {
   "cell_type": "markdown",
   "id": "ced11a52",
   "metadata": {},
   "source": [
    "Visualize it."
   ]
  },
  {
   "cell_type": "code",
   "execution_count": 33,
   "id": "682d4eff",
   "metadata": {},
   "outputs": [],
   "source": [
    "ecl_df = []\n",
    "nmd_range = np.linspace(0, 1, 400)\n",
    "for nmd_decision in nmd_range:\n",
    "    num_fail = (nmd_euclid > nmd_decision).sum()\n",
    "    ecl_df.append(float(num_fail) / len(euclid))"
   ]
  },
  {
   "cell_type": "code",
   "execution_count": 35,
   "id": "633b67fa",
   "metadata": {},
   "outputs": [
    {
     "data": {
      "image/png": "[encoded data removed]",
      "text/plain": [
       "<Figure size 504x504 with 1 Axes>"
      ]
     },
     "metadata": {
      "needs_background": "light"
     },
     "output_type": "display_data"
    }
   ],
   "source": [
    "fig = plt.figure(figsize=(7, 7))\n",
    "plt.plot(nmd_range, ecl_df, linewidth=2)\n",
    "plt.xlabel('Normalized distance (Euclidean)', fontsize=16)\n",
    "plt.ylabel('df', fontsize=16)\n",
    "plt.show()"
   ]
  },
  {
   "cell_type": "markdown",
   "id": "37307d45",
   "metadata": {},
   "source": [
    "Select the decision boundary."
   ]
  },
  {
   "cell_type": "code",
   "execution_count": 36,
   "id": "b2928d64",
   "metadata": {},
   "outputs": [],
   "source": [
    "threshold = 0.1\n",
    "index, ecl_threshold = next(tpl for tpl in enumerate(ecl_df) if tpl[1] < threshold)\n",
    "ecl_decision = nmd_range[index]"
   ]
  },
  {
   "cell_type": "markdown",
   "id": "15ca1319",
   "metadata": {},
   "source": [
    "Generate the plot to mark the location of the decision boundary."
   ]
  },
  {
   "cell_type": "code",
   "execution_count": 37,
   "id": "cf4cb582",
   "metadata": {},
   "outputs": [
    {
     "data": {
      "image/png": "[encoded data removed]",
      "text/plain": [
       "<Figure size 504x504 with 1 Axes>"
      ]
     },
     "metadata": {
      "needs_background": "light"
     },
     "output_type": "display_data"
    }
   ],
   "source": [
    "fig = plt.figure(figsize=(7, 7))\n",
    "plt.plot(nmd_range, ecl_df, linewidth=2)\n",
    "plt.plot(ecl_decision, ecl_threshold, 'bo', markersize=11)\n",
    "\n",
    "plt.xlabel('Normalized distance (Euclidean)', fontsize=16)\n",
    "plt.ylabel('df', fontsize=16)\n",
    "plt.show()"
   ]
  },
  {
   "cell_type": "markdown",
   "id": "4bbd3ab1",
   "metadata": {},
   "source": [
    "Lets Visualize the decision boundary in 3D."
   ]
  },
  {
   "cell_type": "code",
   "execution_count": 38,
   "id": "5102ee4d",
   "metadata": {},
   "outputs": [],
   "source": [
    "radius = ecl_decision * max_euclid\n",
    "phi = np.linspace(0, 2 * np.pi, 300)\n",
    "theta = np.linspace(0, 2 * np.pi, 300)\n",
    "xs = radius * np.outer(np.sin(theta), np.cos(phi))\n",
    "ys = radius * np.outer(np.sin(theta), np.sin(phi))\n",
    "zs = radius * np.outer(np.cos(theta), np.ones(np.size(phi)))\n",
    "\n",
    "ecl_xd = xs + df['Principal'].mean()\n",
    "ecl_yd = ys + df['terms'].mean()\n",
    "ecl_zd = zs + df['age'].mean()"
   ]
  },
  {
   "cell_type": "code",
   "execution_count": 39,
   "id": "88612458",
   "metadata": {},
   "outputs": [
    {
     "name": "stderr",
     "output_type": "stream",
     "text": [
      " ",
      "  "
     ]
    },
    {
     "data": {
      "image/png": "[encoded data removed]",
      "text/plain": [
       "<Figure size 504x504 with 1 Axes>"
      ]
     },
     "metadata": {
      "needs_background": "light"
     },
     "output_type": "display_data"
    }
   ],
   "source": [
    "fig = plt.figure(figsize=(7, 7))\n",
    "ax = Axes3D(fig)\n",
    "\n",
    "ax.scatter(df['Principal'],\n",
    "           df['terms'], \n",
    "           df['age'])\n",
    "\n",
    "ax.plot_surface(ecl_xd, ecl_yd, ecl_zd,\n",
    "                linewidth=0, alpha=0.25)\n",
    "\n",
    "ax.set_xlabel('Principal)', fontsize=16)\n",
    "ax.set_ylabel('terms)', fontsize=16)\n",
    "ax.set_zlabel('age)', fontsize=16)\n",
    "    \n",
    "\n",
    "extremes = []\n",
    "extremes.append([df['Principal'].min(),\n",
    "                 df['Principal'].max()])\n",
    "extremes.append([df['terms'].min(),\n",
    "                 df['terms'].max()])\n",
    "extremes.append([df['age'].min(),\n",
    "                 df['age'].max()])\n",
    "\n",
    "hwidths = [(row[1] - row[0]) / 2.0 for row in extremes]\n",
    "midpts = [(row[1] + row[0]) / 2.0 for row in extremes]\n",
    "\n",
    "left_ends = midpts - np.max(hwidths)\n",
    "right_ends = midpts + np.max(hwidths)\n",
    "ax.set_xlim([left_ends[0], right_ends[0]]);\n",
    "ax.set_ylim([left_ends[1], right_ends[1]]);\n",
    "ax.set_ylim([left_ends[2], right_ends[2]]);"
   ]
  },
  {
   "cell_type": "markdown",
   "id": "1e6ea5da",
   "metadata": {},
   "source": [
    "Deduce the Loan Anomaly Detection Algorithm based on this data set"
   ]
  },
  {
   "cell_type": "markdown",
   "id": "9592922d",
   "metadata": {},
   "source": [
    "Isolation Forest Anomaly Detection Algorithm is what i think is the algroithim since the anomalies lie away from the cluster of data points, so it's easier to isolate the anomalies compare to the regular data points."
   ]
  }
 ],
 "metadata": {
  "kernelspec": {
   "display_name": "Python 3 (ipykernel)",
   "language": "python",
   "name": "python3"
  },
  "language_info": {
   "codemirror_mode": {
    "name": "ipython",
    "version": 3
   },
   "file_extension": ".py",
   "mimetype": "text/x-python",
   "name": "python",
   "nbconvert_exporter": "python",
   "pygments_lexer": "ipython3",
   "version": "3.9.12"
  }
 },
 "nbformat": 4,
 "nbformat_minor": 5
}
