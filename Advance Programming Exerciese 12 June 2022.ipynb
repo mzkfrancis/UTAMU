{
 "cells": [
  {
   "cell_type": "code",
   "execution_count": 3,
   "id": "bc2118b2",
   "metadata": {},
   "outputs": [
    {
     "name": "stdout",
     "output_type": "stream",
     "text": [
      "Defaulting to user installation because normal site-packages is not writeable\n",
      "Requirement already satisfied: lxml in c:\\programdata\\anaconda3\\lib\\site-packages (4.8.0)\n"
     ]
    }
   ],
   "source": [
    "!pip install lxml"
   ]
  },
  {
   "cell_type": "code",
   "execution_count": 93,
   "id": "f69e8892",
   "metadata": {},
   "outputs": [],
   "source": [
    "import requests\n",
    "import lxml.html as lh\n",
    "import pandas as pd\n",
    "import numpy as np\n",
    "import matplotlib.pyplot as plt\n"
   ]
  },
  {
   "cell_type": "code",
   "execution_count": 121,
   "id": "4bf396c8",
   "metadata": {},
   "outputs": [
    {
     "data": {
      "text/plain": [
       "[6, 6, 6, 6, 6, 6, 6, 6, 6, 6, 6, 6]"
      ]
     },
     "execution_count": 121,
     "metadata": {},
     "output_type": "execute_result"
    }
   ],
   "source": [
    "bicycle = 'https://www.ecdc.europa.eu/en/geographical-distribution-2019-ncov-cases'\n",
    "page = requests.get(Covid) \n",
    "\n",
    "doc = lh.fromstring(page.content) \n",
    "\n",
    "tr_elements = doc.xpath('//tr') \n",
    "\n",
    "[len(T) for T in tr_elements[:12]] "
   ]
  },
  {
   "cell_type": "code",
   "execution_count": 122,
   "id": "48f81cb6",
   "metadata": {},
   "outputs": [
    {
     "name": "stdout",
     "output_type": "stream",
     "text": [
      "1:Region\n",
      "2:Places reporting cases\n",
      "3:Sum of Cases\n",
      "4:Sum of Deaths\n",
      "5:Confirmed cases during the 14-days\n",
      "\t\t\tof the reporting  period \n",
      "6:Reporting period\n",
      "\t\t\tYYYY-WW\n"
     ]
    }
   ],
   "source": [
    "tr_elements = doc.xpath('//tr') \n",
    "\n",
    "col = [] \n",
    "i = 0\n",
    "\n",
    "for t in tr_elements[0]: \n",
    "    i+=1\n",
    "    name=t.text_content()\n",
    "    print(\"%d:%s\" % (i,name))\n",
    "    col.append((name,[]))"
   ]
  },
  {
   "cell_type": "code",
   "execution_count": 123,
   "id": "0c53692b",
   "metadata": {},
   "outputs": [],
   "source": [
    "for j in range(1,len(tr_elements)): \n",
    "    T = tr_elements[j] \n",
    "    \n",
    "    if len(T)!=6: \n",
    "        break\n",
    "        \n",
    "    i = 0 \n",
    "    \n",
    "    for t in T.iterchildren(): \n",
    "        data=t.text_content()\n",
    "            \n",
    "        col[i][1].append(data) \n",
    "            \n",
    "        i+=1 "
   ]
  },
  {
   "cell_type": "code",
   "execution_count": 98,
   "id": "09fac6e4",
   "metadata": {},
   "outputs": [
    {
     "data": {
      "text/plain": [
       "[224, 224, 224, 224, 224, 224]"
      ]
     },
     "execution_count": 98,
     "metadata": {},
     "output_type": "execute_result"
    }
   ],
   "source": [
    "[len(C) for (title,C) in col]"
   ]
  },
  {
   "cell_type": "code",
   "execution_count": 99,
   "id": "d993bbdc",
   "metadata": {},
   "outputs": [],
   "source": [
    "Dict = {title:column for (title,column) in col}\n",
    "df = pd.DataFrame(Dict)"
   ]
  },
  {
   "cell_type": "code",
   "execution_count": 100,
   "id": "1f2b00ef",
   "metadata": {},
   "outputs": [
    {
     "data": {
      "text/html": [
       "<div>\n",
       "<style scoped>\n",
       "    .dataframe tbody tr th:only-of-type {\n",
       "        vertical-align: middle;\n",
       "    }\n",
       "\n",
       "    .dataframe tbody tr th {\n",
       "        vertical-align: top;\n",
       "    }\n",
       "\n",
       "    .dataframe thead th {\n",
       "        text-align: right;\n",
       "    }\n",
       "</style>\n",
       "<table border=\"1\" class=\"dataframe\">\n",
       "  <thead>\n",
       "    <tr style=\"text-align: right;\">\n",
       "      <th></th>\n",
       "      <th>Region</th>\n",
       "      <th>Places reporting cases</th>\n",
       "      <th>Sum of Cases</th>\n",
       "      <th>Sum of Deaths</th>\n",
       "      <th>Confirmed cases during the 14-days\\n\\t\\t\\tof the reporting  period</th>\n",
       "      <th>Reporting period\\n\\t\\t\\tYYYY-WW</th>\n",
       "    </tr>\n",
       "  </thead>\n",
       "  <tbody>\n",
       "    <tr>\n",
       "      <th>0</th>\n",
       "      <td>Africa</td>\n",
       "      <td>Algeria</td>\n",
       "      <td>265897</td>\n",
       "      <td>6875</td>\n",
       "      <td>56</td>\n",
       "      <td>2022-21 and 2022-22</td>\n",
       "    </tr>\n",
       "    <tr>\n",
       "      <th>1</th>\n",
       "      <td></td>\n",
       "      <td>Angola</td>\n",
       "      <td>99761</td>\n",
       "      <td>1900</td>\n",
       "      <td>328</td>\n",
       "      <td>2022-21 and 2022-22</td>\n",
       "    </tr>\n",
       "    <tr>\n",
       "      <th>2</th>\n",
       "      <td></td>\n",
       "      <td>Benin</td>\n",
       "      <td>26952</td>\n",
       "      <td>163</td>\n",
       "      <td>0</td>\n",
       "      <td>2022-21 and 2022-22</td>\n",
       "    </tr>\n",
       "    <tr>\n",
       "      <th>3</th>\n",
       "      <td></td>\n",
       "      <td>Botswana</td>\n",
       "      <td>306716</td>\n",
       "      <td>2703</td>\n",
       "      <td>0</td>\n",
       "      <td>2022-21 and 2022-22</td>\n",
       "    </tr>\n",
       "    <tr>\n",
       "      <th>4</th>\n",
       "      <td></td>\n",
       "      <td>Burkina_Faso</td>\n",
       "      <td>20899</td>\n",
       "      <td>384</td>\n",
       "      <td>0</td>\n",
       "      <td>2022-21 and 2022-22</td>\n",
       "    </tr>\n",
       "  </tbody>\n",
       "</table>\n",
       "</div>"
      ],
      "text/plain": [
       "   Region Places reporting cases Sum of Cases Sum of Deaths  \\\n",
       "0  Africa                Algeria       265897          6875   \n",
       "1                         Angola        99761          1900   \n",
       "2                          Benin        26952           163   \n",
       "3                       Botswana       306716          2703   \n",
       "4                   Burkina_Faso        20899           384   \n",
       "\n",
       "  Confirmed cases during the 14-days\\n\\t\\t\\tof the reporting  period   \\\n",
       "0                                                 56                    \n",
       "1                                                328                    \n",
       "2                                                  0                    \n",
       "3                                                  0                    \n",
       "4                                                  0                    \n",
       "\n",
       "  Reporting period\\n\\t\\t\\tYYYY-WW  \n",
       "0             2022-21 and 2022-22  \n",
       "1             2022-21 and 2022-22  \n",
       "2             2022-21 and 2022-22  \n",
       "3             2022-21 and 2022-22  \n",
       "4             2022-21 and 2022-22  "
      ]
     },
     "execution_count": 100,
     "metadata": {},
     "output_type": "execute_result"
    }
   ],
   "source": [
    "df.head()"
   ]
  },
  {
   "cell_type": "code",
   "execution_count": 101,
   "id": "a5e1a958",
   "metadata": {},
   "outputs": [
    {
     "data": {
      "text/html": [
       "<div>\n",
       "<style scoped>\n",
       "    .dataframe tbody tr th:only-of-type {\n",
       "        vertical-align: middle;\n",
       "    }\n",
       "\n",
       "    .dataframe tbody tr th {\n",
       "        vertical-align: top;\n",
       "    }\n",
       "\n",
       "    .dataframe thead th {\n",
       "        text-align: right;\n",
       "    }\n",
       "</style>\n",
       "<table border=\"1\" class=\"dataframe\">\n",
       "  <thead>\n",
       "    <tr style=\"text-align: right;\">\n",
       "      <th></th>\n",
       "      <th>Region</th>\n",
       "      <th>Places reporting cases</th>\n",
       "      <th>Sum of Cases</th>\n",
       "      <th>Sum of Deaths</th>\n",
       "      <th>Confirmed cases during the 14-days\\n\\t\\t\\tof the reporting  period</th>\n",
       "      <th>Reporting period\\n\\t\\t\\tYYYY-WW</th>\n",
       "    </tr>\n",
       "  </thead>\n",
       "  <tbody>\n",
       "    <tr>\n",
       "      <th>219</th>\n",
       "      <td></td>\n",
       "      <td>Tuvalu</td>\n",
       "      <td>3</td>\n",
       "      <td>0</td>\n",
       "      <td>0</td>\n",
       "      <td>2022-21 and 2022-22</td>\n",
       "    </tr>\n",
       "    <tr>\n",
       "      <th>220</th>\n",
       "      <td></td>\n",
       "      <td>Vanuatu</td>\n",
       "      <td>10061</td>\n",
       "      <td>14</td>\n",
       "      <td>1379</td>\n",
       "      <td>2022-21 and 2022-22</td>\n",
       "    </tr>\n",
       "    <tr>\n",
       "      <th>221</th>\n",
       "      <td></td>\n",
       "      <td>Wallis_and_Futuna</td>\n",
       "      <td>454</td>\n",
       "      <td>7</td>\n",
       "      <td>0</td>\n",
       "      <td>2022-21 and 2022-22</td>\n",
       "    </tr>\n",
       "    <tr>\n",
       "      <th>222</th>\n",
       "      <td>Other</td>\n",
       "      <td>Cases_on_an_international_conveyance_Japan</td>\n",
       "      <td>705</td>\n",
       "      <td>6</td>\n",
       "      <td>0</td>\n",
       "      <td>2022-21 and 2022-22</td>\n",
       "    </tr>\n",
       "    <tr>\n",
       "      <th>223</th>\n",
       "      <td>Total</td>\n",
       "      <td></td>\n",
       "      <td>531470423</td>\n",
       "      <td>6318391</td>\n",
       "      <td>6705497</td>\n",
       "      <td></td>\n",
       "    </tr>\n",
       "  </tbody>\n",
       "</table>\n",
       "</div>"
      ],
      "text/plain": [
       "    Region                      Places reporting cases Sum of Cases  \\\n",
       "219                                             Tuvalu            3   \n",
       "220                                            Vanuatu        10061   \n",
       "221                                  Wallis_and_Futuna          454   \n",
       "222  Other  Cases_on_an_international_conveyance_Japan          705   \n",
       "223  Total                                                531470423   \n",
       "\n",
       "    Sum of Deaths  \\\n",
       "219             0   \n",
       "220            14   \n",
       "221             7   \n",
       "222             6   \n",
       "223       6318391   \n",
       "\n",
       "    Confirmed cases during the 14-days\\n\\t\\t\\tof the reporting  period   \\\n",
       "219                                                  0                    \n",
       "220                                               1379                    \n",
       "221                                                  0                    \n",
       "222                                                  0                    \n",
       "223                                            6705497                    \n",
       "\n",
       "    Reporting period\\n\\t\\t\\tYYYY-WW  \n",
       "219             2022-21 and 2022-22  \n",
       "220             2022-21 and 2022-22  \n",
       "221             2022-21 and 2022-22  \n",
       "222             2022-21 and 2022-22  \n",
       "223                                  "
      ]
     },
     "execution_count": 101,
     "metadata": {},
     "output_type": "execute_result"
    }
   ],
   "source": [
    "df.tail()"
   ]
  },
  {
   "cell_type": "code",
   "execution_count": 107,
   "id": "8aa05293",
   "metadata": {},
   "outputs": [
    {
     "data": {
      "text/html": [
       "<div>\n",
       "<style scoped>\n",
       "    .dataframe tbody tr th:only-of-type {\n",
       "        vertical-align: middle;\n",
       "    }\n",
       "\n",
       "    .dataframe tbody tr th {\n",
       "        vertical-align: top;\n",
       "    }\n",
       "\n",
       "    .dataframe thead th {\n",
       "        text-align: right;\n",
       "    }\n",
       "</style>\n",
       "<table border=\"1\" class=\"dataframe\">\n",
       "  <thead>\n",
       "    <tr style=\"text-align: right;\">\n",
       "      <th></th>\n",
       "      <th>Region</th>\n",
       "      <th>Places reporting cases</th>\n",
       "      <th>Sum of Cases</th>\n",
       "      <th>Sum of Deaths</th>\n",
       "      <th>Confirmed cases during the 14-days\\n\\t\\t\\tof the reporting  period</th>\n",
       "      <th>Reporting period\\n\\t\\t\\tYYYY-WW</th>\n",
       "    </tr>\n",
       "  </thead>\n",
       "  <tbody>\n",
       "    <tr>\n",
       "      <th>count</th>\n",
       "      <td>224</td>\n",
       "      <td>224</td>\n",
       "      <td>224</td>\n",
       "      <td>224</td>\n",
       "      <td>224</td>\n",
       "      <td>224</td>\n",
       "    </tr>\n",
       "    <tr>\n",
       "      <th>unique</th>\n",
       "      <td>8</td>\n",
       "      <td>224</td>\n",
       "      <td>223</td>\n",
       "      <td>208</td>\n",
       "      <td>191</td>\n",
       "      <td>2</td>\n",
       "    </tr>\n",
       "    <tr>\n",
       "      <th>top</th>\n",
       "      <td></td>\n",
       "      <td>Algeria</td>\n",
       "      <td>3</td>\n",
       "      <td>0</td>\n",
       "      <td>0</td>\n",
       "      <td>2022-21 and 2022-22</td>\n",
       "    </tr>\n",
       "    <tr>\n",
       "      <th>freq</th>\n",
       "      <td>217</td>\n",
       "      <td>1</td>\n",
       "      <td>2</td>\n",
       "      <td>6</td>\n",
       "      <td>23</td>\n",
       "      <td>223</td>\n",
       "    </tr>\n",
       "  </tbody>\n",
       "</table>\n",
       "</div>"
      ],
      "text/plain": [
       "       Region Places reporting cases Sum of Cases Sum of Deaths  \\\n",
       "count     224                    224          224           224   \n",
       "unique      8                    224          223           208   \n",
       "top                          Algeria            3             0   \n",
       "freq      217                      1            2             6   \n",
       "\n",
       "       Confirmed cases during the 14-days\\n\\t\\t\\tof the reporting  period   \\\n",
       "count                                                 224                    \n",
       "unique                                                191                    \n",
       "top                                                     0                    \n",
       "freq                                                   23                    \n",
       "\n",
       "       Reporting period\\n\\t\\t\\tYYYY-WW  \n",
       "count                              224  \n",
       "unique                               2  \n",
       "top                2022-21 and 2022-22  \n",
       "freq                               223  "
      ]
     },
     "execution_count": 107,
     "metadata": {},
     "output_type": "execute_result"
    }
   ],
   "source": [
    "df.describe()"
   ]
  },
  {
   "cell_type": "code",
   "execution_count": 103,
   "id": "3a6fb7b3",
   "metadata": {},
   "outputs": [
    {
     "data": {
      "text/plain": [
       "(224, 6)"
      ]
     },
     "execution_count": 103,
     "metadata": {},
     "output_type": "execute_result"
    }
   ],
   "source": [
    "df.shape"
   ]
  },
  {
   "cell_type": "code",
   "execution_count": 110,
   "id": "d970c539",
   "metadata": {},
   "outputs": [
    {
     "name": "stdout",
     "output_type": "stream",
     "text": [
      "Defaulting to user installation because normal site-packages is not writeable\n",
      "Requirement already satisfied: seaborn in c:\\programdata\\anaconda3\\lib\\site-packages (0.11.2)\n",
      "Requirement already satisfied: pandas>=0.23 in c:\\programdata\\anaconda3\\lib\\site-packages (from seaborn) (1.4.2)\n",
      "Requirement already satisfied: scipy>=1.0 in c:\\programdata\\anaconda3\\lib\\site-packages (from seaborn) (1.7.3)\n",
      "Requirement already satisfied: matplotlib>=2.2 in c:\\programdata\\anaconda3\\lib\\site-packages (from seaborn) (3.5.1)\n",
      "Requirement already satisfied: numpy>=1.15 in c:\\programdata\\anaconda3\\lib\\site-packages (from seaborn) (1.21.5)\n",
      "Requirement already satisfied: kiwisolver>=1.0.1 in c:\\programdata\\anaconda3\\lib\\site-packages (from matplotlib>=2.2->seaborn) (1.3.2)\n",
      "Requirement already satisfied: pyparsing>=2.2.1 in c:\\programdata\\anaconda3\\lib\\site-packages (from matplotlib>=2.2->seaborn) (3.0.4)\n",
      "Requirement already satisfied: cycler>=0.10 in c:\\programdata\\anaconda3\\lib\\site-packages (from matplotlib>=2.2->seaborn) (0.11.0)\n",
      "Requirement already satisfied: packaging>=20.0 in c:\\programdata\\anaconda3\\lib\\site-packages (from matplotlib>=2.2->seaborn) (21.3)\n",
      "Requirement already satisfied: python-dateutil>=2.7 in c:\\programdata\\anaconda3\\lib\\site-packages (from matplotlib>=2.2->seaborn) (2.8.2)\n",
      "Requirement already satisfied: fonttools>=4.22.0 in c:\\programdata\\anaconda3\\lib\\site-packages (from matplotlib>=2.2->seaborn) (4.25.0)\n",
      "Requirement already satisfied: pillow>=6.2.0 in c:\\programdata\\anaconda3\\lib\\site-packages (from matplotlib>=2.2->seaborn) (9.0.1)\n",
      "Requirement already satisfied: pytz>=2020.1 in c:\\programdata\\anaconda3\\lib\\site-packages (from pandas>=0.23->seaborn) (2021.3)\n",
      "Requirement already satisfied: six>=1.5 in c:\\programdata\\anaconda3\\lib\\site-packages (from python-dateutil>=2.7->matplotlib>=2.2->seaborn) (1.16.0)\n"
     ]
    }
   ],
   "source": [
    "!pip install seaborn"
   ]
  },
  {
   "cell_type": "code",
   "execution_count": 111,
   "id": "9574bf44",
   "metadata": {},
   "outputs": [],
   "source": [
    "import matplotlib.pyplot as plt\n",
    "import seaborn as sns\n",
    "%matplotlib inline"
   ]
  },
  {
   "cell_type": "code",
   "execution_count": 116,
   "id": "5919279d",
   "metadata": {},
   "outputs": [
    {
     "data": {
      "text/html": [
       "<div>\n",
       "<style scoped>\n",
       "    .dataframe tbody tr th:only-of-type {\n",
       "        vertical-align: middle;\n",
       "    }\n",
       "\n",
       "    .dataframe tbody tr th {\n",
       "        vertical-align: top;\n",
       "    }\n",
       "\n",
       "    .dataframe thead th {\n",
       "        text-align: right;\n",
       "    }\n",
       "</style>\n",
       "<table border=\"1\" class=\"dataframe\">\n",
       "  <thead>\n",
       "    <tr style=\"text-align: right;\">\n",
       "      <th></th>\n",
       "      <th>Region</th>\n",
       "      <th>Places reporting cases</th>\n",
       "      <th>Sum of Cases</th>\n",
       "      <th>Sum of Deaths</th>\n",
       "      <th>Confirmed cases during the 14-days\\n\\t\\t\\tof the reporting  period</th>\n",
       "      <th>Reporting period\\n\\t\\t\\tYYYY-WW</th>\n",
       "    </tr>\n",
       "  </thead>\n",
       "  <tbody>\n",
       "    <tr>\n",
       "      <th>1</th>\n",
       "      <td></td>\n",
       "      <td>Angola</td>\n",
       "      <td>99761</td>\n",
       "      <td>1900</td>\n",
       "      <td>328</td>\n",
       "      <td>2022-21 and 2022-22</td>\n",
       "    </tr>\n",
       "    <tr>\n",
       "      <th>2</th>\n",
       "      <td></td>\n",
       "      <td>Benin</td>\n",
       "      <td>26952</td>\n",
       "      <td>163</td>\n",
       "      <td>0</td>\n",
       "      <td>2022-21 and 2022-22</td>\n",
       "    </tr>\n",
       "    <tr>\n",
       "      <th>3</th>\n",
       "      <td></td>\n",
       "      <td>Botswana</td>\n",
       "      <td>306716</td>\n",
       "      <td>2703</td>\n",
       "      <td>0</td>\n",
       "      <td>2022-21 and 2022-22</td>\n",
       "    </tr>\n",
       "    <tr>\n",
       "      <th>4</th>\n",
       "      <td></td>\n",
       "      <td>Burkina_Faso</td>\n",
       "      <td>20899</td>\n",
       "      <td>384</td>\n",
       "      <td>0</td>\n",
       "      <td>2022-21 and 2022-22</td>\n",
       "    </tr>\n",
       "    <tr>\n",
       "      <th>5</th>\n",
       "      <td></td>\n",
       "      <td>Burundi</td>\n",
       "      <td>42248</td>\n",
       "      <td>15</td>\n",
       "      <td>642</td>\n",
       "      <td>2022-21 and 2022-22</td>\n",
       "    </tr>\n",
       "  </tbody>\n",
       "</table>\n",
       "</div>"
      ],
      "text/plain": [
       "  Region Places reporting cases Sum of Cases Sum of Deaths  \\\n",
       "1                        Angola        99761          1900   \n",
       "2                         Benin        26952           163   \n",
       "3                      Botswana       306716          2703   \n",
       "4                  Burkina_Faso        20899           384   \n",
       "5                       Burundi        42248            15   \n",
       "\n",
       "  Confirmed cases during the 14-days\\n\\t\\t\\tof the reporting  period   \\\n",
       "1                                                328                    \n",
       "2                                                  0                    \n",
       "3                                                  0                    \n",
       "4                                                  0                    \n",
       "5                                                642                    \n",
       "\n",
       "  Reporting period\\n\\t\\t\\tYYYY-WW  \n",
       "1             2022-21 and 2022-22  \n",
       "2             2022-21 and 2022-22  \n",
       "3             2022-21 and 2022-22  \n",
       "4             2022-21 and 2022-22  \n",
       "5             2022-21 and 2022-22  "
      ]
     },
     "execution_count": 116,
     "metadata": {},
     "output_type": "execute_result"
    }
   ],
   "source": [
    "dfc =df.drop([df.index[0]])\n",
    "dfc.head()"
   ]
  },
  {
   "cell_type": "code",
   "execution_count": 117,
   "id": "43f333f6",
   "metadata": {},
   "outputs": [
    {
     "data": {
      "text/plain": [
       "Region                                                                 object\n",
       "Places reporting cases                                                 object\n",
       "Sum of Cases                                                           object\n",
       "Sum of Deaths                                                          object\n",
       "Confirmed cases during the 14-days\\n\\t\\t\\tof the reporting  period     object\n",
       "Reporting period\\n\\t\\t\\tYYYY-WW                                        object\n",
       "dtype: object"
      ]
     },
     "execution_count": 117,
     "metadata": {},
     "output_type": "execute_result"
    }
   ],
   "source": [
    "dfc.dtypes"
   ]
  },
  {
   "cell_type": "code",
   "execution_count": 119,
   "id": "bdcc7466",
   "metadata": {},
   "outputs": [
    {
     "data": {
      "text/plain": [
       "Text(0.5, 1.0, 'Sum of Deaths')"
      ]
     },
     "execution_count": 119,
     "metadata": {},
     "output_type": "execute_result"
    },
    {
     "data": {
      "image/png": "[encoded data removed]",
      "text/plain": [
       "<Figure size 432x288 with 1 Axes>"
      ]
     },
     "metadata": {
      "needs_background": "light"
     },
     "output_type": "display_data"
    }
   ],
   "source": [
    "%matplotlib inline\n",
    "import matplotlib as plt\n",
    "from matplotlib import pyplot\n",
    "plt.pyplot.hist(dfc[\"Region\"])\n",
    "\n",
    "# set x/y labels and plot title\n",
    "plt.pyplot.xlabel(\"Region\")\n",
    "plt.pyplot.ylabel(\"Sum of Cases\")\n",
    "plt.pyplot.title(\"Sum of Deaths\")"
   ]
  },
  {
   "cell_type": "code",
   "execution_count": null,
   "id": "b397107c",
   "metadata": {},
   "outputs": [],
   "source": []
  }
 ],
 "metadata": {
  "kernelspec": {
   "display_name": "Python 3 (ipykernel)",
   "language": "python",
   "name": "python3"
  },
  "language_info": {
   "codemirror_mode": {
    "name": "ipython",
    "version": 3
   },
   "file_extension": ".py",
   "mimetype": "text/x-python",
   "name": "python",
   "nbconvert_exporter": "python",
   "pygments_lexer": "ipython3",
   "version": "3.9.12"
  }
 },
 "nbformat": 4,
 "nbformat_minor": 5
}
