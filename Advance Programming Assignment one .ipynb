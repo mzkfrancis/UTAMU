{
 "cells": [
  {
   "cell_type": "markdown",
   "id": "dc68dfe3",
   "metadata": {},
   "source": [
    "</h2> Advance Programing Assignment one </h2>"
   ]
  },
  {
   "cell_type": "markdown",
   "id": "eceea064",
   "metadata": {},
   "source": [
    "</h2>Use other two python packages other than numpy to produce the values of:\n",
    "\n",
    "1) pi\n",
    "\n",
    "2) e\n",
    "\n",
    "3) cos(0)\n",
    "\n",
    "4) tan (45) </h2>"
   ]
  },
  {
   "cell_type": "code",
   "execution_count": 1,
   "id": "1ac6205f",
   "metadata": {},
   "outputs": [],
   "source": [
    "import math as m\n",
    "import scipy as sp"
   ]
  },
  {
   "cell_type": "code",
   "execution_count": 5,
   "id": "b75230ad",
   "metadata": {},
   "outputs": [
    {
     "name": "stdout",
     "output_type": "stream",
     "text": [
      "3.141592653589793\n"
     ]
    }
   ],
   "source": [
    "print(m.pi)"
   ]
  },
  {
   "cell_type": "code",
   "execution_count": 6,
   "id": "351660fa",
   "metadata": {},
   "outputs": [
    {
     "name": "stdout",
     "output_type": "stream",
     "text": [
      "2.718281828459045\n"
     ]
    }
   ],
   "source": [
    "print(m.e)"
   ]
  },
  {
   "cell_type": "code",
   "execution_count": 8,
   "id": "505d109c",
   "metadata": {},
   "outputs": [
    {
     "name": "stdout",
     "output_type": "stream",
     "text": [
      "1.0\n"
     ]
    }
   ],
   "source": [
    "print (m.cos(0))"
   ]
  },
  {
   "cell_type": "code",
   "execution_count": 11,
   "id": "20bd57f5",
   "metadata": {},
   "outputs": [
    {
     "name": "stdout",
     "output_type": "stream",
     "text": [
      "1.6197751905438615\n"
     ]
    }
   ],
   "source": [
    "print (m.tan(45))"
   ]
  },
  {
   "cell_type": "code",
   "execution_count": 12,
   "id": "db4f1721",
   "metadata": {},
   "outputs": [
    {
     "name": "stdout",
     "output_type": "stream",
     "text": [
      "3.141592653589793\n"
     ]
    }
   ],
   "source": [
    "print (sp.pi)"
   ]
  },
  {
   "cell_type": "code",
   "execution_count": 13,
   "id": "3733db3a",
   "metadata": {},
   "outputs": [
    {
     "name": "stdout",
     "output_type": "stream",
     "text": [
      "2.718281828459045\n"
     ]
    }
   ],
   "source": [
    "print(sp.e)"
   ]
  },
  {
   "cell_type": "code",
   "execution_count": 14,
   "id": "ed74c19b",
   "metadata": {},
   "outputs": [
    {
     "name": "stdout",
     "output_type": "stream",
     "text": [
      "1.6197751905438615\n"
     ]
    },
    {
     "name": "stderr",
     "output_type": "stream",
     "text": [
      "C:\\Users\\A265820\\AppData\\Local\\Temp\\ipykernel_16284\\642628798.py:1: DeprecationWarning: scipy.tan is deprecated and will be removed in SciPy 2.0.0, use numpy.tan instead\n",
      "  print (sp.tan(45))\n"
     ]
    }
   ],
   "source": [
    "print (sp.tan(45))"
   ]
  },
  {
   "cell_type": "code",
   "execution_count": 15,
   "id": "5c54a743",
   "metadata": {},
   "outputs": [
    {
     "name": "stdout",
     "output_type": "stream",
     "text": [
      "1.0\n"
     ]
    },
    {
     "name": "stderr",
     "output_type": "stream",
     "text": [
      "C:\\Users\\A265820\\AppData\\Local\\Temp\\ipykernel_16284\\3190474721.py:1: DeprecationWarning: scipy.cos is deprecated and will be removed in SciPy 2.0.0, use numpy.cos instead\n",
      "  print(sp.cos(0))\n"
     ]
    }
   ],
   "source": [
    "print(sp.cos(0))"
   ]
  },
  {
   "cell_type": "markdown",
   "id": "91760f88",
   "metadata": {},
   "source": [
    "</b2> By Amizuku Francis </b2>"
   ]
  },
  {
   "cell_type": "code",
   "execution_count": null,
   "id": "2346fdc3",
   "metadata": {},
   "outputs": [],
   "source": []
  }
 ],
 "metadata": {
  "kernelspec": {
   "display_name": "Python 3 (ipykernel)",
   "language": "python",
   "name": "python3"
  },
  "language_info": {
   "codemirror_mode": {
    "name": "ipython",
    "version": 3
   },
   "file_extension": ".py",
   "mimetype": "text/x-python",
   "name": "python",
   "nbconvert_exporter": "python",
   "pygments_lexer": "ipython3",
   "version": "3.9.12"
  }
 },
 "nbformat": 4,
 "nbformat_minor": 5
}
