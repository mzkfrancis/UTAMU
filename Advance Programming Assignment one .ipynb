{
 "cells": [
  {
   "cell_type": "markdown",
   "id": "ab86c33b",
   "metadata": {},
   "source": [
    "Advance Programing Assignment one "
   ]
  },
  {
   "cell_type": "markdown",
   "id": "d8327382",
   "metadata": {},
   "source": [
    "Use other two python packages other than numpy to produce the values of:\n",
    "\n",
    "1) pi\n",
    "\n",
    "2) e\n",
    "\n",
    "3) cos(0)\n",
    "\n",
    "4) tan (45) "
   ]
  },
  {
   "cell_type": "code",
   "execution_count": 1,
   "id": "02d4331d",
   "metadata": {},
   "outputs": [],
   "source": [
    "import math as m\n",
    "import scipy as sp"
   ]
  },
  {
   "cell_type": "code",
   "execution_count": 5,
   "id": "c62e34cd",
   "metadata": {},
   "outputs": [
    {
     "name": "stdout",
     "output_type": "stream",
     "text": [
      "3.141592653589793\n"
     ]
    }
   ],
   "source": [
    "print(m.pi)"
   ]
  },
  {
   "cell_type": "code",
   "execution_count": 6,
   "id": "443dd22f",
   "metadata": {},
   "outputs": [
    {
     "name": "stdout",
     "output_type": "stream",
     "text": [
      "2.718281828459045\n"
     ]
    }
   ],
   "source": [
    "print(m.e)"
   ]
  },
  {
   "cell_type": "code",
   "execution_count": 8,
   "id": "33b81678",
   "metadata": {},
   "outputs": [
    {
     "name": "stdout",
     "output_type": "stream",
     "text": [
      "1.0\n"
     ]
    }
   ],
   "source": [
    "print (m.cos(0))"
   ]
  },
  {
   "cell_type": "code",
   "execution_count": 9,
   "id": "84222d61",
   "metadata": {},
   "outputs": [
    {
     "name": "stdout",
     "output_type": "stream",
     "text": [
      "1.6197751905438615\n"
     ]
    }
   ],
   "source": [
    "print (m.tan(45))"
   ]
  },
  {
   "cell_type": "markdown",
   "id": "26059382",
   "metadata": {},
   "source": [
    "By Amizuku Francis "
   ]
  },
  {
   "cell_type": "code",
   "execution_count": null,
   "id": "dc42e8e7",
   "metadata": {},
   "outputs": [],
   "source": []
  }
 ],
 "metadata": {
  "kernelspec": {
   "display_name": "Python 3 (ipykernel)",
   "language": "python",
   "name": "python3"
  },
  "language_info": {
   "codemirror_mode": {
    "name": "ipython",
    "version": 3
   },
   "file_extension": ".py",
   "mimetype": "text/x-python",
   "name": "python",
   "nbconvert_exporter": "python",
   "pygments_lexer": "ipython3",
   "version": "3.9.12"
  }
 },
 "nbformat": 4,
 "nbformat_minor": 5
}
